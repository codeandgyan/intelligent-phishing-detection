{
 "cells": [
  {
   "cell_type": "code",
   "execution_count": null,
   "metadata": {},
   "outputs": [],
   "source": [
    "pip install pinecone-client tensorflow"
   ]
  },
  {
   "cell_type": "code",
   "execution_count": null,
   "metadata": {},
   "outputs": [],
   "source": [
    "import tensorflow as tf\n",
    "from tensorflow.keras.applications import ResNet50\n",
    "from tensorflow.keras.applications.resnet50 import preprocess_input\n",
    "from tensorflow.keras.preprocessing import image\n",
    "from pinecone import Pinecone, ServerlessSpec\n",
    "import numpy as np\n",
    "\n",
    "\n",
    "\n",
    "# Initialize Pinecone\n",
    "pinecone = Pinecone(api_key=\"1efa3b1d-0137-41b1-b7ba-0cbf19382b38\")\n",
    "\n",
    "# Create or connect to a Pinecone index\n",
    "index_name = 'image-similarity'\n",
    "# pinecone.delete_index(\"image-similarity\")\n",
    "if index_name not in pinecone.list_indexes():\n",
    "    pinecone.create_index(\n",
    "    name=index_name,\n",
    "    dimension=2048, # Replace with your model dimensions\n",
    "    spec=ServerlessSpec(\n",
    "        cloud=\"aws\",\n",
    "        region=\"us-east-1\"\n",
    "    )\n",
    "  )\n",
    "index = pinecone.Index(index_name)\n"
   ]
  },
  {
   "cell_type": "code",
   "execution_count": null,
   "metadata": {},
   "outputs": [],
   "source": [
    "def load_and_preprocess_image(img_path):\n",
    "    img = image.load_img(img_path, target_size=(224, 224))\n",
    "    img_array = image.img_to_array(img)\n",
    "    img_array = np.expand_dims(img_array, axis=0)\n",
    "    return preprocess_input(img_array)\n",
    "\n",
    "# Load a pre-trained ResNet50 model\n",
    "model = ResNet50(weights='imagenet', include_top=False, pooling='avg')\n",
    "\n",
    "def get_image_embedding(img_path):\n",
    "    img_array = load_and_preprocess_image(img_path)\n",
    "    embedding = model.predict(img_array)\n",
    "    return embedding.flatten()\n"
   ]
  },
  {
   "cell_type": "code",
   "execution_count": null,
   "metadata": {},
   "outputs": [],
   "source": [
    "pip install requests"
   ]
  },
  {
   "cell_type": "code",
   "execution_count": null,
   "metadata": {},
   "outputs": [],
   "source": [
    "pip install pillow"
   ]
  },
  {
   "cell_type": "code",
   "execution_count": null,
   "metadata": {},
   "outputs": [],
   "source": [
    "import json\n",
    "import os\n",
    "def add_image_to_pinecone_with_metadata(index, img_path, img_id, url, domain):\n",
    "    embedding = get_image_embedding(img_path)\n",
    "    index.upsert(vectors=[{\"id\": img_id, \"values\": embedding.tolist(), \"metadata\": {\"url\": url,\"domain\": domain}}], namespace='legitimateImageDB')\n",
    "\n",
    "# Function to upsert images in a folder to Pinecone using metadata\n",
    "def upsert_images_in_folder2(index, metadata_file, folder_path):\n",
    "    with open(metadata_file, 'r') as file:\n",
    "        metadata = json.load(file)\n",
    "    \n",
    "    # Iterate through the metadata and add images to Pinecone\n",
    "    for item in metadata:\n",
    "        img_id = item['image']\n",
    "        img_path = os.path.join(folder_path, img_id)\n",
    "        url = item['url']\n",
    "        domain = item['domain']\n",
    "        add_image_to_pinecone_with_metadata(index, img_path, img_id, url, domain)\n",
    "        # add_image_to_pinecone(index, img_path, img_id)\n",
    "\n"
   ]
  },
  {
   "cell_type": "code",
   "execution_count": null,
   "metadata": {},
   "outputs": [],
   "source": [
    "folder_path = 'legitimateImageDB'\n",
    "# upsert_images_in_folder(index, folder_path)\n",
    "metadata_file = 'legitimateMetadata.json'\n",
    "upsert_images_in_folder2(index, metadata_file, folder_path)\n"
   ]
  },
  {
   "cell_type": "code",
   "execution_count": null,
   "metadata": {},
   "outputs": [],
   "source": [
    "def query_similar_images2(query_img_path, top_k=5):\n",
    "    query_embedding = get_image_embedding(query_img_path)\n",
    "    query_results = index.query(namespace=\"legitimateImageDB\", vector=[query_embedding.tolist()], top_k=top_k, include_values=True, include_metadata=True)\n",
    "    return query_results\n",
    "\n",
    "query_results = query_similar_images2('netflixPhish.png', top_k=3)\n",
    "# print(query_results)\n",
    "score = query_results\n",
    "# print (score)\n",
    "print(score.matches[0].score)\n",
    "print(score.matches[0].id)\n",
    "print(score.namespace)\n",
    "print(score.matches[0].metadata)\n",
    "# pinecone.delete_index(index_name)\n"
   ]
  },
  {
   "cell_type": "code",
   "execution_count": null,
   "metadata": {},
   "outputs": [],
   "source": [
    "import time\n",
    "import requests\n",
    "\n",
    "# Function to download an image from a URL\n",
    "def download_image(url, save_path):\n",
    "    response = requests.get(url)\n",
    "    result = False\n",
    "    if response.status_code == 200:\n",
    "        with open(save_path, 'wb') as f:\n",
    "            f.write(response.content)\n",
    "        result = True\n",
    "        print(f\"Image successfully downloaded: {save_path}\")\n",
    "    else:\n",
    "        print(f\"Failed to download image. Status code: {response.status_code}\")\n",
    "    return result\n",
    "\n",
    "# Function to get the closest image to a query image\n",
    "def get_closest_image(query_image_url):\n",
    "    save_path = 'query_image.jpg'\n",
    "    result = download_image(query_image_url, save_path)\n",
    "    if not result:\n",
    "        # Delay for 8 seconds\n",
    "        time.sleep(8)\n",
    "        # Download the image again\n",
    "        result = download_image(query_image_url, save_path)\n",
    "        if not result:\n",
    "            time.sleep(2)\n",
    "            result = download_image(query_image_url, save_path)\n",
    "    if not result:\n",
    "        return None\n",
    "\n",
    "\n",
    "    query_results = query_similar_images2(save_path, top_k=1)\n",
    "    return (query_results.matches[0].score, query_results.matches[0].metadata.get('url'), query_results.matches[0].metadata.get('domain'))\n",
    "\n",
    "# query_image_url = 'https://picsum.photos/536/354'\n",
    "query_image_url = 'http://phish-collector-lb-1814707889.us-east-1.elb.amazonaws.com/screenshots/551f623d-05a9-4356-ba8a-0807ba117232-netflix.png'\n",
    "closest_image = get_closest_image(query_image_url)\n",
    "print(closest_image)\n"
   ]
  }
 ],
 "metadata": {
  "kernelspec": {
   "display_name": ".venv",
   "language": "python",
   "name": "python3"
  },
  "language_info": {
   "name": "python",
   "version": "3.9.6"
  }
 },
 "nbformat": 4,
 "nbformat_minor": 2
}
